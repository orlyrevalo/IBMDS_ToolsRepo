{
 "cells": [
  {
   "cell_type": "markdown",
   "id": "7fde7889-1c88-40f7-b111-bc759fdd5013",
   "metadata": {},
   "source": [
    "# Data Science Tools and Ecosystem"
   ]
  },
  {
   "cell_type": "markdown",
   "id": "ba9339bf-0604-4555-a9fa-508b82dc777d",
   "metadata": {},
   "source": [
    "In this notebook, Data Science Tools and Ecosystem are summarized."
   ]
  },
  {
   "cell_type": "markdown",
   "id": "e160df0c-324a-4ca0-ad9e-fb16c4e8791b",
   "metadata": {
    "tags": []
   },
   "source": [
    "**Objectives:**\n",
    "- List popular languages for Data Science\n",
    "- List common libraries used by Data Scientist \n",
    "- List common Data Science Tools\n",
    "- Write sample scripts for evaulating arthmetic expressions"
   ]
  },
  {
   "cell_type": "markdown",
   "id": "d8ef27af-5815-4c62-97ca-29fd218e3c6f",
   "metadata": {},
   "source": [
    "Some of the popular languages that Data Scientists use are:\n",
    "1. Python\n",
    "2. R \n",
    "3. Java"
   ]
  },
  {
   "cell_type": "markdown",
   "id": "4bf5dea5-00ae-4c84-86fc-ff18cf9959e6",
   "metadata": {},
   "source": [
    "Some of the commonly used libraries used by Data Scientists include:\n",
    "1. Numpy\n",
    "2. Pandas\n",
    "3. Matplotlib\n",
    "4. Scikit Learn"
   ]
  },
  {
   "cell_type": "markdown",
   "id": "08009e2f-2919-4a50-8800-972400508305",
   "metadata": {},
   "source": [
    "|Data Science Tools|\n",
    "|-----|\n",
    "|Apache Spark|\n",
    "|RStudio|\n",
    "|TensorFlow|"
   ]
  },
  {
   "cell_type": "markdown",
   "id": "8e4ba2ed-31e7-4323-b831-5a4f0db3b78e",
   "metadata": {},
   "source": [
    "### Below are a few examples of evaluating arithmetic expressions in Python."
   ]
  },
  {
   "cell_type": "code",
   "execution_count": 2,
   "id": "1151bbe6-e33d-49c0-9511-db0ff9f9df8a",
   "metadata": {
    "tags": []
   },
   "outputs": [
    {
     "data": {
      "text/plain": [
       "17"
      ]
     },
     "execution_count": 2,
     "metadata": {},
     "output_type": "execute_result"
    }
   ],
   "source": [
    "# This a simple arithmetic expression to mutiply then add integers\n",
    "(3*4)+5"
   ]
  },
  {
   "cell_type": "code",
   "execution_count": 6,
   "id": "9cf0b34f-59e1-4546-bd5b-331f06b9e5a7",
   "metadata": {
    "tags": []
   },
   "outputs": [
    {
     "name": "stdout",
     "output_type": "stream",
     "text": [
      "3.3333333333333335 hours\n"
     ]
    }
   ],
   "source": [
    "# This will convert 200 minutes to hours by diving by 60\n",
    "print(200 / 60, \"hours\")"
   ]
  },
  {
   "cell_type": "markdown",
   "id": "bcbd10e8-b01d-4abb-b294-3d57f502fc83",
   "metadata": {},
   "source": [
    "## Author\n",
    "Orly Revalo "
   ]
  }
 ],
 "metadata": {
  "kernelspec": {
   "display_name": "Python",
   "language": "python",
   "name": "conda-env-python-py"
  },
  "language_info": {
   "codemirror_mode": {
    "name": "ipython",
    "version": 3
   },
   "file_extension": ".py",
   "mimetype": "text/x-python",
   "name": "python",
   "nbconvert_exporter": "python",
   "pygments_lexer": "ipython3",
   "version": "3.7.12"
  }
 },
 "nbformat": 4,
 "nbformat_minor": 5
}
